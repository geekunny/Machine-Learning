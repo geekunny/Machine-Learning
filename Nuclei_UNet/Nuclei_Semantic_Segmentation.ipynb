{
 "cells": [
  {
   "cell_type": "markdown",
   "id": "73ea37f7-b8f8-41a6-9f74-d775696a8923",
   "metadata": {},
   "source": [
    "# <b>U-Net Model for Semantic Segmentation on Nuclei Dataset"
   ]
  },
  {
   "cell_type": "code",
   "execution_count": 1,
   "id": "24335a30-3fcf-4dac-92a0-c14e75e731bb",
   "metadata": {},
   "outputs": [],
   "source": [
    "# Importing usefull libraries\n",
    "import numpy as np\n",
    "import keras as k\n",
    "import os\n",
    "import random\n",
    "from tqdm import tqdm\n",
    "from skimage.io import imread,imshow\n",
    "from skimage.transform import resize\n",
    "import matplotlib.pyplot as plt\n",
    "from sklearn.metrics import confusion_matrix as cm,accuracy_score as acc"
   ]
  },
  {
   "cell_type": "code",
   "execution_count": 2,
   "id": "72ac4d2a-b2f6-4092-8e98-9aafc23cf678",
   "metadata": {
    "tags": []
   },
   "outputs": [],
   "source": [
    "seed = 100\n",
    "np.random.seed = seed\n",
    "\n",
    "# Setting Input Image Size \n",
    "img_width = 128\n",
    "img_height = 128\n",
    "img_channels = 3"
   ]
  },
  {
   "cell_type": "markdown",
   "id": "221e9ca6-533b-4432-9dab-1bc6e71c88d3",
   "metadata": {
    "tags": []
   },
   "source": [
    "# Preprocessing the dataset and making it fit to the model"
   ]
  },
  {
   "cell_type": "code",
   "execution_count": 3,
   "id": "dab039a7-eac6-4851-9ec1-217c24a63510",
   "metadata": {
    "tags": []
   },
   "outputs": [],
   "source": [
    "train_path = 'Dataset/train/'\n",
    "test_path = 'Dataset/test/'\n",
    "\n",
    "train_ids = next(os.walk(train_path))[1]\n",
    "test_ids = next(os.walk(test_path))[1]\n",
    "\n",
    "# Creating empty images and masks\n",
    "x_train = np.zeros((len(train_ids),img_height,img_width,img_channels),dtype=np.uint8)\n",
    "y_train = np.zeros((len(train_ids),img_height,img_width,1),dtype=np.bool)"
   ]
  },
  {
   "cell_type": "markdown",
   "id": "efaceb06-94fe-4973-a71f-ecd56fd7465a",
   "metadata": {
    "tags": []
   },
   "source": [
    "# Resizing train images and creating their single mask \n",
    "In the dataset, each neulcei in the image has different mask respectively. Rather we want a single mask for single image\n",
    "To do this, we will create a single mask for particular image and we will add all the masks into this single one.\n",
    "We, will simply compare every mask with this single mask pixel wise, and we will update the single mask with \n",
    "maximum(pixel in empty mask, pixel in every mask). This will give us the mask with all the nucleis in it."
   ]
  },
  {
   "cell_type": "code",
   "execution_count": 4,
   "id": "25861825-bd05-4214-bed7-4f568fc23a84",
   "metadata": {
    "tags": []
   },
   "outputs": [
    {
     "name": "stderr",
     "output_type": "stream",
     "text": [
      "  0%|          | 0/670 [00:00<?, ?it/s]"
     ]
    },
    {
     "name": "stdout",
     "output_type": "stream",
     "text": [
      "Resizing training images and masks\n"
     ]
    },
    {
     "name": "stderr",
     "output_type": "stream",
     "text": [
      "100%|██████████| 670/670 [09:17<00:00,  1.20it/s]\n"
     ]
    }
   ],
   "source": [
    "print(\"Resizing training images and masks\")\n",
    "for n,Id in tqdm(enumerate(train_ids),total=len(train_ids)): # tqdm will show a percentage bar with the help of which we can see\n",
    "    path = train_path + Id                                   # how many iterations have been completed\n",
    "    img = imread(path + '/images/' + Id + '.png')[:,:,:img_channels] # Reading the particular image\n",
    "    img = resize(img,(img_height,img_width),mode='constant',preserve_range='True') # Resizing image\n",
    "    x_train[n] = img # Filling empty x_train with values from img\n",
    "    mask = np.zeros((img_height,img_width,1),dtype=np.bool) # Creating an empty single mask.\n",
    "    for mask_id in next(os.walk(path + '/masks/'))[2]:\n",
    "        mask_ = imread(path + '/masks/' + mask_id) # Reading the particular mask\n",
    "        mask_ = np.expand_dims(resize(mask_,(img_height,img_width),mode='constant',preserve_range='True'),axis=-1) # Resizing mask\n",
    "        mask = np.maximum(mask,mask_) # Will store the maximum pixel in the mask \n",
    "    y_train[n] = mask\n",
    "# Now we have images and their respective single mask."
   ]
  },
  {
   "cell_type": "markdown",
   "id": "507e9e04-407a-4702-83e5-bfeda5b644ed",
   "metadata": {
    "tags": []
   },
   "source": [
    "# Resizing test images"
   ]
  },
  {
   "cell_type": "code",
   "execution_count": 5,
   "id": "5771268a-71b4-4394-9377-e007a53065cd",
   "metadata": {
    "tags": []
   },
   "outputs": [
    {
     "name": "stderr",
     "output_type": "stream",
     "text": [
      "  3%|▎         | 2/65 [00:00<00:03, 17.12it/s]"
     ]
    },
    {
     "name": "stdout",
     "output_type": "stream",
     "text": [
      "Resizing test images\n"
     ]
    },
    {
     "name": "stderr",
     "output_type": "stream",
     "text": [
      "100%|██████████| 65/65 [00:01<00:00, 45.87it/s]\n"
     ]
    }
   ],
   "source": [
    "print('Resizing test images') \n",
    "x_test = np.zeros((len(test_ids),img_height,img_width,img_channels),dtype=np.uint8)\n",
    "sizes_test = []\n",
    "for n, Id in tqdm(enumerate(test_ids),total=len(test_ids)):\n",
    "    path = test_path + Id\n",
    "    img = imread(path + '/images/' + Id + '.png')[:,:,:img_channels]\n",
    "#     sizes_test.append([img.shape[0], img.shape[1]])s\n",
    "    img = resize(img,(img_height,img_width),mode='constant',preserve_range=True)\n",
    "    x_test[n] = img"
   ]
  },
  {
   "cell_type": "code",
   "execution_count": 6,
   "id": "eb12bcd1-9ab3-4fad-8a43-2c499e56e533",
   "metadata": {},
   "outputs": [],
   "source": [
    "# Check if what we have done is worth or not \n",
    "# image_x = random.randint(0,len(train_ids))\n",
    "# imshow(x_train[image_x])\n",
    "# plt.show()\n",
    "# imshow(np.squeeze(y_train[image_x]))\n",
    "# plt.show()"
   ]
  },
  {
   "cell_type": "markdown",
   "id": "bd05fd67-786d-4da4-b23f-1bc8119f5614",
   "metadata": {},
   "source": [
    "# Building the U-Net model"
   ]
  },
  {
   "cell_type": "code",
   "execution_count": 7,
   "id": "4cf29fe5-d5e8-45be-9456-5fd1f89805ea",
   "metadata": {},
   "outputs": [],
   "source": [
    "# Input Layer\n",
    "inputs = k.layers.Input((img_width,img_height,img_channels))\n",
    "\n",
    "''' Since, layers only take floating point values, therefore we need to convert the pixel values of input from\n",
    "    8bit int to floating point.\n",
    "    The best way to do that is divide every pixel value by 255, since pixel values have the range 0-255.\n",
    "    Therefore, dividing every value by 255 will convert it to a floating point'''\n",
    "input_layer = k.layers.Lambda(lambda x: x/255)(inputs)"
   ]
  },
  {
   "cell_type": "code",
   "execution_count": 8,
   "id": "55108ecf-0dd9-4039-8e7b-ef14c3221fe6",
   "metadata": {},
   "outputs": [
    {
     "name": "stdout",
     "output_type": "stream",
     "text": [
      "Model: \"model\"\n",
      "__________________________________________________________________________________________________\n",
      "Layer (type)                    Output Shape         Param #     Connected to                     \n",
      "==================================================================================================\n",
      "input_1 (InputLayer)            [(None, 128, 128, 3) 0                                            \n",
      "__________________________________________________________________________________________________\n",
      "lambda (Lambda)                 (None, 128, 128, 3)  0           input_1[0][0]                    \n",
      "__________________________________________________________________________________________________\n",
      "conv2d (Conv2D)                 (None, 128, 128, 16) 448         lambda[0][0]                     \n",
      "__________________________________________________________________________________________________\n",
      "dropout (Dropout)               (None, 128, 128, 16) 0           conv2d[0][0]                     \n",
      "__________________________________________________________________________________________________\n",
      "conv2d_1 (Conv2D)               (None, 128, 128, 16) 2320        dropout[0][0]                    \n",
      "__________________________________________________________________________________________________\n",
      "max_pooling2d (MaxPooling2D)    (None, 64, 64, 16)   0           conv2d_1[0][0]                   \n",
      "__________________________________________________________________________________________________\n",
      "conv2d_2 (Conv2D)               (None, 64, 64, 32)   4640        max_pooling2d[0][0]              \n",
      "__________________________________________________________________________________________________\n",
      "dropout_1 (Dropout)             (None, 64, 64, 32)   0           conv2d_2[0][0]                   \n",
      "__________________________________________________________________________________________________\n",
      "conv2d_3 (Conv2D)               (None, 64, 64, 32)   9248        dropout_1[0][0]                  \n",
      "__________________________________________________________________________________________________\n",
      "max_pooling2d_1 (MaxPooling2D)  (None, 32, 32, 32)   0           conv2d_3[0][0]                   \n",
      "__________________________________________________________________________________________________\n",
      "conv2d_4 (Conv2D)               (None, 32, 32, 64)   18496       max_pooling2d_1[0][0]            \n",
      "__________________________________________________________________________________________________\n",
      "dropout_2 (Dropout)             (None, 32, 32, 64)   0           conv2d_4[0][0]                   \n",
      "__________________________________________________________________________________________________\n",
      "conv2d_5 (Conv2D)               (None, 32, 32, 64)   36928       dropout_2[0][0]                  \n",
      "__________________________________________________________________________________________________\n",
      "max_pooling2d_2 (MaxPooling2D)  (None, 16, 16, 64)   0           conv2d_5[0][0]                   \n",
      "__________________________________________________________________________________________________\n",
      "conv2d_6 (Conv2D)               (None, 16, 16, 128)  73856       max_pooling2d_2[0][0]            \n",
      "__________________________________________________________________________________________________\n",
      "dropout_3 (Dropout)             (None, 16, 16, 128)  0           conv2d_6[0][0]                   \n",
      "__________________________________________________________________________________________________\n",
      "conv2d_7 (Conv2D)               (None, 16, 16, 128)  147584      dropout_3[0][0]                  \n",
      "__________________________________________________________________________________________________\n",
      "max_pooling2d_3 (MaxPooling2D)  (None, 8, 8, 128)    0           conv2d_7[0][0]                   \n",
      "__________________________________________________________________________________________________\n",
      "conv2d_8 (Conv2D)               (None, 8, 8, 256)    295168      max_pooling2d_3[0][0]            \n",
      "__________________________________________________________________________________________________\n",
      "dropout_4 (Dropout)             (None, 8, 8, 256)    0           conv2d_8[0][0]                   \n",
      "__________________________________________________________________________________________________\n",
      "conv2d_9 (Conv2D)               (None, 8, 8, 256)    590080      dropout_4[0][0]                  \n",
      "__________________________________________________________________________________________________\n",
      "conv2d_transpose (Conv2DTranspo (None, 16, 16, 128)  131200      conv2d_9[0][0]                   \n",
      "__________________________________________________________________________________________________\n",
      "concatenate (Concatenate)       (None, 16, 16, 256)  0           conv2d_transpose[0][0]           \n",
      "                                                                 conv2d_7[0][0]                   \n",
      "__________________________________________________________________________________________________\n",
      "conv2d_10 (Conv2D)              (None, 16, 16, 128)  295040      concatenate[0][0]                \n",
      "__________________________________________________________________________________________________\n",
      "dropout_5 (Dropout)             (None, 16, 16, 128)  0           conv2d_10[0][0]                  \n",
      "__________________________________________________________________________________________________\n",
      "conv2d_11 (Conv2D)              (None, 16, 16, 128)  147584      dropout_5[0][0]                  \n",
      "__________________________________________________________________________________________________\n",
      "conv2d_transpose_1 (Conv2DTrans (None, 32, 32, 64)   32832       conv2d_11[0][0]                  \n",
      "__________________________________________________________________________________________________\n",
      "concatenate_1 (Concatenate)     (None, 32, 32, 128)  0           conv2d_transpose_1[0][0]         \n",
      "                                                                 conv2d_5[0][0]                   \n",
      "__________________________________________________________________________________________________\n",
      "conv2d_12 (Conv2D)              (None, 32, 32, 64)   73792       concatenate_1[0][0]              \n",
      "__________________________________________________________________________________________________\n",
      "dropout_6 (Dropout)             (None, 32, 32, 64)   0           conv2d_12[0][0]                  \n",
      "__________________________________________________________________________________________________\n",
      "conv2d_13 (Conv2D)              (None, 32, 32, 64)   36928       dropout_6[0][0]                  \n",
      "__________________________________________________________________________________________________\n",
      "conv2d_transpose_2 (Conv2DTrans (None, 64, 64, 32)   8224        conv2d_13[0][0]                  \n",
      "__________________________________________________________________________________________________\n",
      "concatenate_2 (Concatenate)     (None, 64, 64, 64)   0           conv2d_transpose_2[0][0]         \n",
      "                                                                 conv2d_3[0][0]                   \n",
      "__________________________________________________________________________________________________\n",
      "conv2d_14 (Conv2D)              (None, 64, 64, 32)   18464       concatenate_2[0][0]              \n",
      "__________________________________________________________________________________________________\n",
      "dropout_7 (Dropout)             (None, 64, 64, 32)   0           conv2d_14[0][0]                  \n",
      "__________________________________________________________________________________________________\n",
      "conv2d_15 (Conv2D)              (None, 64, 64, 32)   9248        dropout_7[0][0]                  \n",
      "__________________________________________________________________________________________________\n",
      "conv2d_transpose_3 (Conv2DTrans (None, 128, 128, 16) 2064        conv2d_15[0][0]                  \n",
      "__________________________________________________________________________________________________\n",
      "concatenate_3 (Concatenate)     (None, 128, 128, 32) 0           conv2d_transpose_3[0][0]         \n",
      "                                                                 conv2d_1[0][0]                   \n",
      "__________________________________________________________________________________________________\n",
      "conv2d_16 (Conv2D)              (None, 128, 128, 16) 4624        concatenate_3[0][0]              \n",
      "__________________________________________________________________________________________________\n",
      "dropout_8 (Dropout)             (None, 128, 128, 16) 0           conv2d_16[0][0]                  \n",
      "__________________________________________________________________________________________________\n",
      "conv2d_17 (Conv2D)              (None, 128, 128, 16) 2320        dropout_8[0][0]                  \n",
      "__________________________________________________________________________________________________\n",
      "conv2d_18 (Conv2D)              (None, 128, 128, 1)  17          conv2d_17[0][0]                  \n",
      "==================================================================================================\n",
      "Total params: 1,941,105\n",
      "Trainable params: 1,941,105\n",
      "Non-trainable params: 0\n",
      "__________________________________________________________________________________________________\n"
     ]
    }
   ],
   "source": [
    "################## ENCODER / CONTRACTION ###########################\n",
    "\n",
    "# 2 @ Convolutional Layers with 16 @ (3,3) filters and padding = same\n",
    "c1 = k.layers.Conv2D(16,(3,3),padding=\"same\",activation=\"relu\",kernel_initializer=\"he_normal\")(input_layer)\n",
    "c1 = k.layers.Dropout(0.1)(c1)\n",
    "c1 = k.layers.Conv2D(16,(3,3),padding=\"same\",activation=\"relu\",kernel_initializer=\"he_normal\")(c1)\n",
    "# Max Pooling with (2,2) filter and stride = 2\n",
    "p1 = k.layers.MaxPooling2D(pool_size=(2,2),strides=(2,2))(c1)\n",
    "\n",
    "# 2 @ Convolutional Layers with 32 @ (3,3) filters and padding = same\n",
    "c2 = k.layers.Conv2D(32,(3,3),padding=\"same\",activation=\"relu\",kernel_initializer=\"he_normal\")(p1)\n",
    "c2 = k.layers.Dropout(0.1)(c2)\n",
    "c2 = k.layers.Conv2D(32,(3,3),padding=\"same\",activation=\"relu\",kernel_initializer=\"he_normal\")(c2)\n",
    "# Max Pooling with (2,2) filter and stride = 2\n",
    "p2 = k.layers.MaxPooling2D(pool_size=(2,2),strides=(2,2))(c2)\n",
    "\n",
    "# 2 @ Convolutional Layers with 64 @ (3,3) filters and padding = same\n",
    "c3 = k.layers.Conv2D(64,(3,3),padding=\"same\",activation=\"relu\",kernel_initializer=\"he_normal\")(p2)\n",
    "c3 = k.layers.Dropout(0.2)(c3)\n",
    "c3 = k.layers.Conv2D(64,(3,3),padding=\"same\",activation=\"relu\",kernel_initializer=\"he_normal\")(c3)\n",
    "# Max Pooling with (2,2) filter and stride = 2\n",
    "p3 = k.layers.MaxPooling2D(pool_size=(2,2),strides=(2,2))(c3)\n",
    "\n",
    "# 2 @ Convolutional Layers with 128 @ (3,3) filters and padding = same\n",
    "c4 = k.layers.Conv2D(128,(3,3),padding=\"same\",activation=\"relu\",kernel_initializer=\"he_normal\")(p3)\n",
    "c4 = k.layers.Dropout(0.2)(c4)\n",
    "c4 = k.layers.Conv2D(128,(3,3),padding=\"same\",activation=\"relu\",kernel_initializer=\"he_normal\")(c4)\n",
    "# Max Pooling with (2,2) filter and stride = 2\n",
    "p4 = k.layers.MaxPooling2D(pool_size=(2,2),strides=(2,2))(c4)\n",
    "\n",
    "# 2 @ Convolutional Layers with 256 @ (3,3) filters and padding = same\n",
    "c5 = k.layers.Conv2D(256,(3,3),padding=\"same\",activation=\"relu\",kernel_initializer=\"he_normal\")(p4)\n",
    "c5 = k.layers.Dropout(0.3)(c5)\n",
    "c5 = k.layers.Conv2D(256,(3,3),padding=\"same\",activation=\"relu\",kernel_initializer=\"he_normal\")(c5)\n",
    "\n",
    "################## DECODER / EXPANSION ###########################\n",
    "\n",
    "# Up-Sampling with 128 @ (3,3) filters and padding = same and stride = 2\n",
    "u6 = k.layers.Conv2DTranspose(128,(2,2),strides=(2,2),padding='same')(c5)\n",
    "''' Adding a skip connection, which skip some layer in the neural network and feeds the output of one layer \n",
    "    as the input to the next layers (instead of only the next one). skip connections are used to skip features \n",
    "    from the contracting path to the expanding path in order to recover spatial information lost during \n",
    "    downsampling.'''\n",
    "u6 = k.layers.concatenate([u6,c4])\n",
    "# 2 @ Convolutional Layers with 128 @ (3,3) filters and padding = same\n",
    "c6 = k.layers.Conv2D(128,(3,3),activation='relu',kernel_initializer='he_normal',padding='same')(u6)\n",
    "c6 = k.layers.Dropout(0.2)(c6)\n",
    "c6 = k.layers.Conv2D(128,(3,3),activation='relu',kernel_initializer='he_normal',padding='same')(c6)\n",
    "\n",
    "# Up-Sampling with 64 @ (3,3) filters and padding = same and stride = 2\n",
    "u7 = k.layers.Conv2DTranspose(64,(2,2),strides=(2,2),padding='same')(c6)\n",
    "u7 = k.layers.concatenate([u7,c3])\n",
    "# 2 @ Convolutional Layers with 64 @ (3,3) filters and padding = same\n",
    "c7 = k.layers.Conv2D(64,(3,3),activation='relu',kernel_initializer='he_normal',padding='same')(u7)\n",
    "c7 = k.layers.Dropout(0.2)(c7)\n",
    "c7 = k.layers.Conv2D(64,(3,3),activation='relu',kernel_initializer='he_normal',padding='same')(c7)\n",
    "\n",
    "# Up-Sampling with 32 @ (3,3) filters and padding = same and stride = 2\n",
    "u8 = k.layers.Conv2DTranspose(32,(2,2),strides=(2,2),padding='same')(c7)\n",
    "u8 = k.layers.concatenate([u8,c2])\n",
    "# 2 @ Convolutional Layers with 32 @ (3,3) filters and padding = same\n",
    "c8 = k.layers.Conv2D(32,(3,3),activation='relu',kernel_initializer='he_normal',padding='same')(u8)\n",
    "c8 = k.layers.Dropout(0.2)(c8)\n",
    "c8 = k.layers.Conv2D(32,(3,3),activation='relu',kernel_initializer='he_normal',padding='same')(c8)\n",
    "\n",
    "# Up-Sampling with 16 @ (3,3) filters and padding = same and stride = 2\n",
    "u9 = k.layers.Conv2DTranspose(16,(2,2),strides=(2,2),padding='same')(c8)\n",
    "u9 = k.layers.concatenate([u9,c1])\n",
    "# 2 @ Convolutional Layers with 16 @ (3,3) filters and padding = same\n",
    "c9 = k.layers.Conv2D(16,(3,3),activation='relu',kernel_initializer='he_normal',padding='same')(u9)\n",
    "c9 = k.layers.Dropout(0.2)(c9)\n",
    "c9 = k.layers.Conv2D(16,(3,3),activation='relu',kernel_initializer='he_normal',padding='same')(c9)\n",
    "\n",
    "#Final Output with 1 @ Convolutional Layer and 1 @ (1,1) filter\n",
    "outputs = k.layers.Conv2D(1,(1,1),activation='sigmoid')(c9)\n",
    "\n",
    "model = k.Model(inputs=[inputs],outputs=[outputs])\n",
    "model.compile(optimizer='adam',loss='binary_crossentropy',metrics=['accuracy'])\n",
    "model.summary()"
   ]
  },
  {
   "cell_type": "markdown",
   "id": "63f13759-390f-4429-9dec-76c09eabf4c0",
   "metadata": {},
   "source": [
    "# Understanding some important arguments\n",
    "batch_size -> If you want your data to be divided in batches. (Total no. of training examples present in a single batch)\n",
    "epoch -> One epoch is when an entire dataset is passed forward and backward through the neural network only once.\n",
    "verbose -> Accepts value 0/1. Set verbose = 1 if you want to see anything on the screen after one epoch.\n",
    "validation_split -> What percentage of data you want to keep aside for validation purposes.\n",
    "\n",
    "# Callbacks:\n",
    "    1) ModelCheckpoint -> With this, we can check our model over a period of time. It basically save the model after every epoch.\n",
    "                    Basically, if something stopped unexpectedly, you dont wanna loose something. This is where it helps.\n",
    "    Arguments -> \n",
    "        filepath -> path to save the model file\n",
    "        save_best_only -> It saves the recent best model.\n",
    "    2) EarlyStopping -> If you put too many epochs, you are probably overfitting. If you put too less epochs, you are probably\n",
    "                        underfitting the data. How many epochs to put we really dont know, this is where EarlyStopping is usefull.\n",
    "    Arguments ->\n",
    "        monitor -> Which factor you want to monitor. Example: val_loss -> If there is no improvement in validation loss, then stop \n",
    "                    the training.\n",
    "        patience -> How do we know that if there is improvement or not. This is where patience helps, eg: for monitor='val_loss' and\n",
    "                    patience=3 means EarlyStopping will stop the training if there is no improvement in the validation loss for three\n",
    "                    consecutive epochs.\n",
    "    3) tensorboard -> it is a visualisation tool provided by tensorflow\n",
    "    Arguments ->\n",
    "        log_dir -> the path of the directory where to save the log files to be parsed by tensorflow."
   ]
  },
  {
   "cell_type": "code",
   "execution_count": 9,
   "id": "749de143-f509-415e-a3e3-14675a1fc5bf",
   "metadata": {},
   "outputs": [],
   "source": [
    "# Model Checkpoint\n",
    "checkpointer = k.callbacks.ModelCheckpoint('model_for_nuclei.h5',verbose=1,save_best_only=True)\n",
    "\n",
    "callbacks = [\n",
    "        k.callbacks.EarlyStopping(patience=2, monitor='val_loss'),\n",
    "        k.callbacks.TensorBoard(log_dir='logs')]"
   ]
  },
  {
   "cell_type": "markdown",
   "id": "9073f527-2a84-4747-8ec3-c3590eb59f7b",
   "metadata": {},
   "source": [
    "# Training the model "
   ]
  },
  {
   "cell_type": "code",
   "execution_count": 10,
   "id": "e7cc4e8c-6c2c-472b-ad34-f5e72d5a9706",
   "metadata": {},
   "outputs": [
    {
     "name": "stdout",
     "output_type": "stream",
     "text": [
      "Epoch 1/25\n",
      "38/38 [==============================] - 136s 3s/step - loss: 0.5910 - accuracy: 0.7809 - val_loss: 0.4156 - val_accuracy: 0.8346\n",
      "Epoch 2/25\n",
      "38/38 [==============================] - 110s 3s/step - loss: 0.3007 - accuracy: 0.8291 - val_loss: 0.2158 - val_accuracy: 0.9145\n",
      "Epoch 3/25\n",
      "38/38 [==============================] - 108s 3s/step - loss: 0.1835 - accuracy: 0.9328 - val_loss: 0.1443 - val_accuracy: 0.9426\n",
      "Epoch 4/25\n",
      "38/38 [==============================] - 109s 3s/step - loss: 0.1380 - accuracy: 0.9476 - val_loss: 0.1319 - val_accuracy: 0.9510\n",
      "Epoch 5/25\n",
      "38/38 [==============================] - 112s 3s/step - loss: 0.1289 - accuracy: 0.9502 - val_loss: 0.1105 - val_accuracy: 0.9579\n",
      "Epoch 6/25\n",
      "38/38 [==============================] - 110s 3s/step - loss: 0.1111 - accuracy: 0.9571 - val_loss: 0.1089 - val_accuracy: 0.9585\n",
      "Epoch 7/25\n",
      "38/38 [==============================] - 112s 3s/step - loss: 0.1169 - accuracy: 0.9557 - val_loss: 0.0972 - val_accuracy: 0.9632\n",
      "Epoch 8/25\n",
      "38/38 [==============================] - 106s 3s/step - loss: 0.1044 - accuracy: 0.9595 - val_loss: 0.0907 - val_accuracy: 0.9656\n",
      "Epoch 9/25\n",
      "38/38 [==============================] - 101s 3s/step - loss: 0.1064 - accuracy: 0.9593 - val_loss: 0.0901 - val_accuracy: 0.9667\n",
      "Epoch 10/25\n",
      "38/38 [==============================] - 98s 3s/step - loss: 0.0968 - accuracy: 0.9625 - val_loss: 0.0867 - val_accuracy: 0.9673\n",
      "Epoch 11/25\n",
      "38/38 [==============================] - 96s 3s/step - loss: 0.1003 - accuracy: 0.9612 - val_loss: 0.0861 - val_accuracy: 0.9679\n",
      "Epoch 12/25\n",
      "38/38 [==============================] - 87s 2s/step - loss: 0.0983 - accuracy: 0.9618 - val_loss: 0.0837 - val_accuracy: 0.9692\n",
      "Epoch 13/25\n",
      "38/38 [==============================] - 93s 2s/step - loss: 0.0954 - accuracy: 0.9638 - val_loss: 0.0913 - val_accuracy: 0.9671\n",
      "Epoch 14/25\n",
      "38/38 [==============================] - 118s 3s/step - loss: 0.0924 - accuracy: 0.9650 - val_loss: 0.0793 - val_accuracy: 0.9696\n",
      "Epoch 15/25\n",
      "38/38 [==============================] - 97s 3s/step - loss: 0.0834 - accuracy: 0.9676 - val_loss: 0.0804 - val_accuracy: 0.9693\n",
      "Epoch 16/25\n",
      "38/38 [==============================] - 100s 3s/step - loss: 0.0882 - accuracy: 0.9658 - val_loss: 0.0767 - val_accuracy: 0.9714\n",
      "Epoch 17/25\n",
      "38/38 [==============================] - 98s 3s/step - loss: 0.0847 - accuracy: 0.9669 - val_loss: 0.0762 - val_accuracy: 0.9704\n",
      "Epoch 18/25\n",
      "38/38 [==============================] - 104s 3s/step - loss: 0.0790 - accuracy: 0.9690 - val_loss: 0.0733 - val_accuracy: 0.9722\n",
      "Epoch 19/25\n",
      "38/38 [==============================] - 107s 3s/step - loss: 0.0844 - accuracy: 0.9672 - val_loss: 0.0809 - val_accuracy: 0.9684\n",
      "Epoch 20/25\n",
      "38/38 [==============================] - 91s 2s/step - loss: 0.0847 - accuracy: 0.9672 - val_loss: 0.0755 - val_accuracy: 0.9712\n"
     ]
    }
   ],
   "source": [
    "results = model.fit(x_train,y_train,validation_split=0.1,batch_size=16,epochs=25,callbacks=callbacks)"
   ]
  },
  {
   "cell_type": "markdown",
   "id": "8b3a4b3c-50a3-4c07-9555-1468515de301",
   "metadata": {},
   "source": [
    "# Predictions"
   ]
  },
  {
   "cell_type": "code",
   "execution_count": 11,
   "id": "5bf20a14-44e0-4ec5-a003-0f0b00520f9b",
   "metadata": {},
   "outputs": [
    {
     "name": "stdout",
     "output_type": "stream",
     "text": [
      "19/19 [==============================] - 13s 631ms/step\n",
      "3/3 [==============================] - 3s 736ms/step\n",
      "3/3 [==============================] - 2s 603ms/step\n"
     ]
    }
   ],
   "source": [
    "'''\n",
    "x_train.shape = [670 128 128 3]\n",
    "x_train.shape[0] = 670\n",
    "0.1 was our validation_split which means, data for validation 0.1*670 = 67 and data for training 0.9*670 = 603\n",
    "x_train[:603] -> Dataset for training\n",
    "x_train[603:] -> Dataset for validation\n",
    "'''\n",
    "pred_train = model.predict(x_train[:int(x_train.shape[0]*0.9)],verbose=1)\n",
    "pred_val = model.predict(x_train[int(x_train.shape[0]*0.9):],verbose=1)\n",
    "pred_test = model.predict(x_test,verbose=1)\n",
    "'''\n",
    "Since predictions will range from -infinity to +infinity but we need to have boolean predictions\n",
    "(pred_train > 0.5) will result into True/False and .astype(np.uint8) will convert True/False to 1/0.\n",
    "''' \n",
    "train_predictions = (pred_train > 0.5).astype(np.uint8)\n",
    "val_predictions = (pred_val > 0.5).astype(np.uint8)\n",
    "test_predictions = (pred_test > 0.5).astype(np.uint8)"
   ]
  },
  {
   "cell_type": "markdown",
   "id": "c3b97af5-4a0f-4c60-a475-174887c30f96",
   "metadata": {},
   "source": [
    "# Sanity Checks"
   ]
  },
  {
   "cell_type": "code",
   "execution_count": 12,
   "id": "f8e331cf-d2cb-42b5-b06c-f5634216df9e",
   "metadata": {},
   "outputs": [
    {
     "data": {
      "image/png": "[encoded data removed]",
      "text/plain": [
       "<Figure size 432x288 with 1 Axes>"
      ]
     },
     "metadata": {
      "needs_background": "light"
     },
     "output_type": "display_data"
    },
    {
     "data": {
      "image/png": "[encoded data removed]",
      "text/plain": [
       "<Figure size 432x288 with 1 Axes>"
      ]
     },
     "metadata": {
      "needs_background": "light"
     },
     "output_type": "display_data"
    },
    {
     "name": "stderr",
     "output_type": "stream",
     "text": [
      "/home/geekunny/anaconda3/lib/python3.8/site-packages/skimage/io/_plugins/matplotlib_plugin.py:150: UserWarning: Low image data range; displaying image with stretched contrast.\n",
      "  lo, hi, cmap = _get_display_range(image)\n"
     ]
    },
    {
     "data": {
      "image/png": "[encoded data removed]",
      "text/plain": [
       "<Figure size 432x288 with 2 Axes>"
      ]
     },
     "metadata": {
      "needs_background": "light"
     },
     "output_type": "display_data"
    },
    {
     "data": {
      "image/png": "[encoded data removed]",
      "text/plain": [
       "<Figure size 432x288 with 1 Axes>"
      ]
     },
     "metadata": {
      "needs_background": "light"
     },
     "output_type": "display_data"
    },
    {
     "data": {
      "image/png": "[encoded data removed]",
      "text/plain": [
       "<Figure size 432x288 with 1 Axes>"
      ]
     },
     "metadata": {
      "needs_background": "light"
     },
     "output_type": "display_data"
    },
    {
     "data": {
      "image/png": "[encoded data removed]",
      "text/plain": [
       "<Figure size 432x288 with 2 Axes>"
      ]
     },
     "metadata": {
      "needs_background": "light"
     },
     "output_type": "display_data"
    },
    {
     "data": {
      "image/png": "[encoded data removed]",
      "text/plain": [
       "<Figure size 432x288 with 1 Axes>"
      ]
     },
     "metadata": {
      "needs_background": "light"
     },
     "output_type": "display_data"
    },
    {
     "data": {
      "image/png": "[encoded data removed]",
      "text/plain": [
       "<Figure size 432x288 with 2 Axes>"
      ]
     },
     "metadata": {
      "needs_background": "light"
     },
     "output_type": "display_data"
    }
   ],
   "source": [
    "# Performing a sanity check on some random training samples\n",
    "ix = random.randint(0,len(train_predictions))\n",
    "imshow(x_train[ix])\n",
    "plt.show()\n",
    "imshow(np.squeeze(y_train[ix]))\n",
    "plt.show()\n",
    "imshow(np.squeeze(train_predictions[ix]))\n",
    "plt.show()\n",
    "\n",
    "# Perform a sanity check on some random validation samples\n",
    "ix = random.randint(0,len(val_predictions))\n",
    "imshow(x_train[int(x_train.shape[0]*0.9):][ix])\n",
    "plt.show()\n",
    "imshow(np.squeeze(y_train[int(y_train.shape[0]*0.9):][ix]))\n",
    "plt.show()\n",
    "imshow(np.squeeze(val_predictions[ix]))\n",
    "plt.show()\n",
    "\n",
    "# Predicting the image on some random test samples\n",
    "ix = random.randint(0,len(test_predictions))\n",
    "imshow(x_test[ix])\n",
    "plt.show()\n",
    "imshow(np.squeeze(test_predictions[ix]))\n",
    "plt.show()"
   ]
  },
  {
   "cell_type": "markdown",
   "id": "b9d0d247-b214-4977-81c9-6c04fdab2668",
   "metadata": {},
   "source": [
    "# Finding Intersection on Union (IoU)\n",
    "IoU is used as a evalutation technique for Image Segmentation Models."
   ]
  },
  {
   "cell_type": "code",
   "execution_count": 13,
   "id": "788e47c0-59d6-4afd-94b8-30bc040b97c8",
   "metadata": {},
   "outputs": [
    {
     "name": "stdout",
     "output_type": "stream",
     "text": [
      "Mean IoU: 90.99 %\n"
     ]
    }
   ],
   "source": [
    "y_true = np.squeeze(y_train[:int(y_train.shape[0]*0.9)].astype(np.uint8))\n",
    "pred = np.squeeze(train_predictions)\n",
    "IoU = k.metrics.MeanIoU(num_classes = 2)\n",
    "IoU.update_state(y_true,pred)\n",
    "m_IoU = IoU.result().numpy()*100\n",
    "print(\"Mean IoU: %.2f\"%m_IoU + ' %')"
   ]
  },
  {
   "cell_type": "markdown",
   "id": "cff60b22-ff18-4803-a5aa-dbd470614c21",
   "metadata": {},
   "source": [
    "<B> HURRAYYYY!! You have successfully implemented U-Net Model for Semantic Segmentation on Nuclei Dataset."
   ]
  }
 ],
 "metadata": {
  "kernelspec": {
   "display_name": "Python 3",
   "language": "python",
   "name": "python3"
  },
  "language_info": {
   "codemirror_mode": {
    "name": "ipython",
    "version": 3
   },
   "file_extension": ".py",
   "mimetype": "text/x-python",
   "name": "python",
   "nbconvert_exporter": "python",
   "pygments_lexer": "ipython3",
   "version": "3.8.8"
  },
  "toc-autonumbering": true,
  "toc-showcode": true,
  "toc-showmarkdowntxt": false,
  "toc-showtags": false
 },
 "nbformat": 4,
 "nbformat_minor": 5
}
